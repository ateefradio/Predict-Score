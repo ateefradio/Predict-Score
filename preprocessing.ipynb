{
 "cells": [
  {
   "cell_type": "code",
   "execution_count": 1,
   "id": "dbf067ef",
   "metadata": {},
   "outputs": [],
   "source": [
    "import pandas as pd\n",
    "import numpy as np"
   ]
  },
  {
   "cell_type": "code",
   "execution_count": 2,
   "id": "87c9abaa",
   "metadata": {},
   "outputs": [
    {
     "name": "stderr",
     "output_type": "stream",
     "text": [
      "c:\\users\\admin\\desktop\\ipl-first-innings-score-prediction-deployment-master\\venv\\lib\\site-packages\\IPython\\core\\interactiveshell.py:3165: DtypeWarning: Columns (1) have mixed types.Specify dtype option on import or set low_memory=False.\n",
      "  has_raised = await self.run_ast_nodes(code_ast.body, cell_name,\n"
     ]
    }
   ],
   "source": [
    "data = pd.read_csv(\"all_matches.csv\")"
   ]
  },
  {
   "cell_type": "code",
   "execution_count": 3,
   "id": "30b81128",
   "metadata": {},
   "outputs": [],
   "source": [
    "\n",
    "releventColumns=['match_id','start_date','venue','innings','ball','batting_team','bowling_team','striker','non_striker','bowler','runs_off_bat','extras']\n",
    "data=data[releventColumns]"
   ]
  },
  {
   "cell_type": "code",
   "execution_count": 4,
   "id": "76635d1c",
   "metadata": {},
   "outputs": [],
   "source": [
    "data['total_runs']=data['runs_off_bat']+data['extras']"
   ]
  },
  {
   "cell_type": "code",
   "execution_count": 5,
   "id": "bc69a356",
   "metadata": {},
   "outputs": [],
   "source": [
    "data=data.drop(columns=['runs_off_bat','extras'])"
   ]
  },
  {
   "cell_type": "code",
   "execution_count": 6,
   "id": "1bde402f",
   "metadata": {},
   "outputs": [],
   "source": [
    "data=data[data['ball']<=19.6]\n",
    "data=data[data['innings']<=2]\n",
    "          "
   ]
  },
  {
   "cell_type": "code",
   "execution_count": 7,
   "id": "b37ed131",
   "metadata": {},
   "outputs": [],
   "source": [
    "data=data.groupby(['match_id','start_date','venue','innings','batting_team','bowling_team']).total_runs.sum()"
   ]
  },
  {
   "cell_type": "code",
   "execution_count": 8,
   "id": "c55f3b68",
   "metadata": {},
   "outputs": [],
   "source": [
    "data=data.reset_index()\n",
    "data=data.drop(columns=['match_id'])"
   ]
  },
  {
   "cell_type": "code",
   "execution_count": 9,
   "id": "21457b0a",
   "metadata": {},
   "outputs": [
    {
     "data": {
      "text/html": [
       "<div>\n",
       "<style scoped>\n",
       "    .dataframe tbody tr th:only-of-type {\n",
       "        vertical-align: middle;\n",
       "    }\n",
       "\n",
       "    .dataframe tbody tr th {\n",
       "        vertical-align: top;\n",
       "    }\n",
       "\n",
       "    .dataframe thead th {\n",
       "        text-align: right;\n",
       "    }\n",
       "</style>\n",
       "<table border=\"1\" class=\"dataframe\">\n",
       "  <thead>\n",
       "    <tr style=\"text-align: right;\">\n",
       "      <th></th>\n",
       "      <th>start_date</th>\n",
       "      <th>venue</th>\n",
       "      <th>innings</th>\n",
       "      <th>batting_team</th>\n",
       "      <th>bowling_team</th>\n",
       "      <th>total_runs</th>\n",
       "    </tr>\n",
       "  </thead>\n",
       "  <tbody>\n",
       "    <tr>\n",
       "      <th>0</th>\n",
       "      <td>2008-04-18</td>\n",
       "      <td>M Chinnaswamy Stadium</td>\n",
       "      <td>1</td>\n",
       "      <td>Kolkata Knight Riders</td>\n",
       "      <td>Royal Challengers Bangalore</td>\n",
       "      <td>222</td>\n",
       "    </tr>\n",
       "    <tr>\n",
       "      <th>1</th>\n",
       "      <td>2008-04-18</td>\n",
       "      <td>M Chinnaswamy Stadium</td>\n",
       "      <td>2</td>\n",
       "      <td>Royal Challengers Bangalore</td>\n",
       "      <td>Kolkata Knight Riders</td>\n",
       "      <td>82</td>\n",
       "    </tr>\n",
       "    <tr>\n",
       "      <th>2</th>\n",
       "      <td>2008-04-19</td>\n",
       "      <td>Punjab Cricket Association Stadium, Mohali</td>\n",
       "      <td>1</td>\n",
       "      <td>Chennai Super Kings</td>\n",
       "      <td>Kings XI Punjab</td>\n",
       "      <td>240</td>\n",
       "    </tr>\n",
       "    <tr>\n",
       "      <th>3</th>\n",
       "      <td>2008-04-19</td>\n",
       "      <td>Punjab Cricket Association Stadium, Mohali</td>\n",
       "      <td>2</td>\n",
       "      <td>Kings XI Punjab</td>\n",
       "      <td>Chennai Super Kings</td>\n",
       "      <td>207</td>\n",
       "    </tr>\n",
       "    <tr>\n",
       "      <th>4</th>\n",
       "      <td>2008-04-19</td>\n",
       "      <td>Feroz Shah Kotla</td>\n",
       "      <td>1</td>\n",
       "      <td>Rajasthan Royals</td>\n",
       "      <td>Delhi Daredevils</td>\n",
       "      <td>129</td>\n",
       "    </tr>\n",
       "  </tbody>\n",
       "</table>\n",
       "</div>"
      ],
      "text/plain": [
       "   start_date                                       venue  innings  \\\n",
       "0  2008-04-18                       M Chinnaswamy Stadium        1   \n",
       "1  2008-04-18                       M Chinnaswamy Stadium        2   \n",
       "2  2008-04-19  Punjab Cricket Association Stadium, Mohali        1   \n",
       "3  2008-04-19  Punjab Cricket Association Stadium, Mohali        2   \n",
       "4  2008-04-19                            Feroz Shah Kotla        1   \n",
       "\n",
       "                  batting_team                 bowling_team  total_runs  \n",
       "0        Kolkata Knight Riders  Royal Challengers Bangalore         222  \n",
       "1  Royal Challengers Bangalore        Kolkata Knight Riders          82  \n",
       "2          Chennai Super Kings              Kings XI Punjab         240  \n",
       "3              Kings XI Punjab          Chennai Super Kings         207  \n",
       "4             Rajasthan Royals             Delhi Daredevils         129  "
      ]
     },
     "execution_count": 9,
     "metadata": {},
     "output_type": "execute_result"
    }
   ],
   "source": [
    "data.head()"
   ]
  },
  {
   "cell_type": "code",
   "execution_count": 11,
   "id": "9a8f57bf",
   "metadata": {},
   "outputs": [],
   "source": [
    "data.to_csv('preprocessed.csv',index=\"false\")"
   ]
  },
  {
   "cell_type": "code",
   "execution_count": null,
   "id": "3da91bdd",
   "metadata": {},
   "outputs": [],
   "source": []
  },
  {
   "cell_type": "code",
   "execution_count": null,
   "id": "3e1570de",
   "metadata": {},
   "outputs": [],
   "source": []
  }
 ],
 "metadata": {
  "kernelspec": {
   "display_name": "Python 3",
   "language": "python",
   "name": "python3"
  },
  "language_info": {
   "codemirror_mode": {
    "name": "ipython",
    "version": 3
   },
   "file_extension": ".py",
   "mimetype": "text/x-python",
   "name": "python",
   "nbconvert_exporter": "python",
   "pygments_lexer": "ipython3",
   "version": "3.9.2"
  }
 },
 "nbformat": 4,
 "nbformat_minor": 5
}
